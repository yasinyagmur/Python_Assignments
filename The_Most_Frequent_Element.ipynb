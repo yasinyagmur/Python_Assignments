{
 "cells": [
  {
   "cell_type": "markdown",
   "metadata": {},
   "source": [
    "### Task : Find out the most frequent number and its frequency.\n",
    "\n",
    "### Write a program that;\n",
    "\n",
    "### Finds out the most frequent number in the given list.\n",
    "### Calculates its frequency.\n",
    "### Prints out the result such as :"
   ]
  },
  {
   "cell_type": "code",
   "execution_count": null,
   "metadata": {},
   "outputs": [],
   "source": [
    "numbers = [1, 3, 7, 4, 3, 0, 3, 6, 3]\n",
    "\n",
    "repeat = max(set(numbers), key= numbers.count) \n",
    "\n",
    "repeat_number = numbers.count(repeat)\n",
    "\n",
    "print(f\"the most frequent number is {repeat} and it was {repeat_number} times repeated\")"
   ]
  }
 ],
 "metadata": {
  "interpreter": {
   "hash": "f7e022b67859ae4a791bbcc1c75bde8b3a5bef3b9abb0060fdb4399d638fb2f6"
  },
  "kernelspec": {
   "display_name": "Python 3.9.12 64-bit",
   "language": "python",
   "name": "python3"
  },
  "language_info": {
   "name": "python",
   "version": "3.9.12"
  },
  "orig_nbformat": 4
 },
 "nbformat": 4,
 "nbformat_minor": 2
}
