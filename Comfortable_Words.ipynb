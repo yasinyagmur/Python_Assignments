{
 "cells": [
  {
   "cell_type": "markdown",
   "metadata": {},
   "source": [
    "### 💡Objective:\n",
    "### To improve your knowledge of collection types (set), boolean logic and raise your awareness of \"ten fingers keyboard\"."
   ]
  },
  {
   "cell_type": "markdown",
   "metadata": {},
   "source": [
    "### Task : Find out if the given word is \"comfortable words\" in relation to the ten-finger keyboard use.\n",
    "\n",
    "### A comfortable word is a word which you can type always alternating the hand you type with (assuming you type using a Q-keyboard and use of the ten-fingers standard).\n",
    "### The word will always be a string consisting of only letters from a to z.\n",
    "### Write a program which returns True if it's a comfortable word or False otherwise.\n",
    "\n",
    "### Given  word\tDesired Output (explanation)\n",
    "### tester\tFalse (uses only left-hand fingers)*\n",
    "### polly\tFalse (uses only right-hand fingers)*\n",
    "### clarusway\tTrue (uses both hand fingers)*"
   ]
  }
 ],
 "metadata": {
  "interpreter": {
   "hash": "f7e022b67859ae4a791bbcc1c75bde8b3a5bef3b9abb0060fdb4399d638fb2f6"
  },
  "kernelspec": {
   "display_name": "Python 3.9.12 64-bit",
   "language": "python",
   "name": "python3"
  },
  "language_info": {
   "name": "python",
   "version": "3.9.12"
  },
  "orig_nbformat": 4
 },
 "nbformat": 4,
 "nbformat_minor": 2
}
