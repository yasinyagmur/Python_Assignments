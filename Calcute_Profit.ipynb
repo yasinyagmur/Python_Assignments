{
 "cells": [
  {
   "cell_type": "markdown",
   "metadata": {},
   "source": [
    "### Problem : If you had deposited a coin on the cryptocurrency exchange\n",
    "### That brought 7% fixed profit daily for a week, how much would your $ 1000 reach at the end of the 7th day?"
   ]
  },
  {
   "cell_type": "code",
   "execution_count": null,
   "metadata": {},
   "outputs": [],
   "source": [
    "principal = 1000\n",
    "day_profıt = 7\n",
    "\n",
    "how_day = int(input(\"PLEASE ENTER HOW MANY DAYS YOU WOULD LIKE TO CALCULATE \"))\n",
    "total_profıt = ((day_profıt + 100) ** (how_day)) / (10 ** (2 * how_day)) * principal # Ana para dahil\n",
    "print(total_profıt)"
   ]
  }
 ],
 "metadata": {
  "interpreter": {
   "hash": "f7e022b67859ae4a791bbcc1c75bde8b3a5bef3b9abb0060fdb4399d638fb2f6"
  },
  "kernelspec": {
   "display_name": "Python 3.9.12 64-bit",
   "language": "python",
   "name": "python3"
  },
  "language_info": {
   "codemirror_mode": {
    "name": "ipython",
    "version": 3
   },
   "file_extension": ".py",
   "mimetype": "text/x-python",
   "name": "python",
   "nbconvert_exporter": "python",
   "pygments_lexer": "ipython3",
   "version": "3.9.12"
  },
  "orig_nbformat": 4
 },
 "nbformat": 4,
 "nbformat_minor": 2
}
